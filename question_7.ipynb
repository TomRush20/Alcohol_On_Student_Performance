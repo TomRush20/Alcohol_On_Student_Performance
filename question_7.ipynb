{
 "cells": [
  {
   "cell_type": "code",
   "execution_count": 105,
   "metadata": {},
   "outputs": [],
   "source": [
    "import sqlite3\n",
    "import pandas as pd\n",
    "\n",
    "def sqlite_to_dataframe(sql_script):\n",
    "    # Create a connection to an in-memory SQLite database\n",
    "    conn = sqlite3.connect('student_alcohol_data.db')\n",
    "    cursor = conn.cursor()\n",
    "    \n",
    "    # Execute the provided SQL script\n",
    "    cursor.execute(sql_script)\n",
    "    \n",
    "    results = cursor.fetchall()\n",
    "\n",
    "    # Fetch column names from the cursor\n",
    "    column_names = [description[0] for description in cursor.description]\n",
    "    \n",
    "    # Convert to DataFrame with column names\n",
    "    results = pd.DataFrame(results, columns=column_names)\n",
    "\n",
    "    \n",
    "    # Close the connection\n",
    "    conn.close()\n",
    "    \n",
    "    return results\n"
   ]
  },
  {
   "cell_type": "code",
   "execution_count": 106,
   "metadata": {},
   "outputs": [
    {
     "name": "stdout",
     "output_type": "stream",
     "text": [
      "  Trait  COUNT(*)  Percent Of Total\n",
      "0     M        40              76.9\n"
     ]
    }
   ],
   "source": [
    "Q4_1 = \"\"\"\n",
    "SELECT sex AS \"Trait\",\n",
    "COUNT(*), ROUND(COUNT(*) * 100.0 / SUM(COUNT(*)) OVER(), 1) AS \"Percent Of Total\"\n",
    "FROM student \n",
    "WHERE workday_alcohol IN (4,5)\n",
    "GROUP BY sex\n",
    "ORDER BY ROUND(COUNT(*) * 100.0 / SUM(COUNT(*)) OVER(), 1) DESC\n",
    "LIMIT 1;\n",
    "\"\"\"\n",
    "Q4_1 = sqlite_to_dataframe(Q4_1)\n",
    "print(Q4_1)"
   ]
  },
  {
   "cell_type": "code",
   "execution_count": 107,
   "metadata": {},
   "outputs": [
    {
     "name": "stdout",
     "output_type": "stream",
     "text": [
      "   Trait  COUNT(*)  Percent Of Total\n",
      "0     18        16              30.8\n"
     ]
    }
   ],
   "source": [
    "Q4_2 = \"\"\"\n",
    "SELECT age AS \"Trait\",\n",
    "COUNT(*), ROUND(COUNT(*) * 100.0 / SUM(COUNT(*)) OVER(), 1) AS \"Percent Of Total\"\n",
    "FROM student \n",
    "WHERE workday_alcohol IN (4,5)\n",
    "GROUP BY age\n",
    "ORDER BY ROUND(COUNT(*) * 100.0 / SUM(COUNT(*)) OVER(), 1) DESC\n",
    "LIMIT 1;\n",
    "\"\"\"\n",
    "Q4_2 = sqlite_to_dataframe(Q4_2)\n",
    "print(Q4_2)"
   ]
  },
  {
   "cell_type": "code",
   "execution_count": 108,
   "metadata": {},
   "outputs": [
    {
     "name": "stdout",
     "output_type": "stream",
     "text": [
      "  Trait  COUNT(*)  Percent Of Total\n",
      "0     T        46              88.5\n"
     ]
    }
   ],
   "source": [
    "Q4_3 = \"\"\"\n",
    "SELECT parent_status AS \"Trait\",\n",
    "COUNT(*), ROUND(COUNT(*) * 100.0 / SUM(COUNT(*)) OVER(), 1) AS \"Percent Of Total\"\n",
    "FROM student \n",
    "WHERE workday_alcohol IN (4,5)\n",
    "GROUP BY parent_status \n",
    "ORDER BY ROUND(COUNT(*) * 100.0 / SUM(COUNT(*)) OVER(), 1) DESC\n",
    "LIMIT 1;\n",
    "\"\"\"\n",
    "Q4_3 = sqlite_to_dataframe(Q4_3)\n",
    "print(Q4_3)"
   ]
  },
  {
   "cell_type": "code",
   "execution_count": 109,
   "metadata": {},
   "outputs": [
    {
     "name": "stdout",
     "output_type": "stream",
     "text": [
      "   Trait  COUNT(*)  Percent Of Total\n",
      "0      2        24              46.2\n"
     ]
    }
   ],
   "source": [
    "Q4_4 = \"\"\"\n",
    "SELECT study_time AS \"Trait\",\n",
    "COUNT(*), ROUND(COUNT(*) * 100.0 / SUM(COUNT(*)) OVER(), 1) AS \"Percent Of Total\"\n",
    "FROM student \n",
    "WHERE workday_alcohol IN (4,5)\n",
    "GROUP BY study_time \n",
    "ORDER BY ROUND(COUNT(*) * 100.0 / SUM(COUNT(*)) OVER(), 1) DESC\n",
    "LIMIT 1;\n",
    "\"\"\"\n",
    "Q4_4 = sqlite_to_dataframe(Q4_4)\n",
    "print(Q4_4)"
   ]
  },
  {
   "cell_type": "code",
   "execution_count": 110,
   "metadata": {},
   "outputs": [
    {
     "name": "stdout",
     "output_type": "stream",
     "text": [
      "   Trait  COUNT(*)  Percent Of Total\n",
      "0      0        37              71.2\n"
     ]
    }
   ],
   "source": [
    "Q4_5 = \"\"\"\n",
    "SELECT failures AS \"Trait\",\n",
    "COUNT(*), ROUND(COUNT(*) * 100.0 / SUM(COUNT(*)) OVER(), 1) AS \"Percent Of Total\"\n",
    "FROM student \n",
    "WHERE workday_alcohol IN (4,5)\n",
    "GROUP BY failures\n",
    "ORDER BY ROUND(COUNT(*) * 100.0 / SUM(COUNT(*)) OVER(), 1) DESC\n",
    "LIMIT 1;\n",
    "\"\"\"\n",
    "Q4_5 = sqlite_to_dataframe(Q4_5)\n",
    "print(Q4_5)"
   ]
  },
  {
   "cell_type": "code",
   "execution_count": 111,
   "metadata": {},
   "outputs": [
    {
     "name": "stdout",
     "output_type": "stream",
     "text": [
      "  Trait  COUNT(*)  Percent Of Total\n",
      "0   yes        28              53.8\n"
     ]
    }
   ],
   "source": [
    "Q4_6 = \"\"\"\n",
    "SELECT activities AS \"Trait\",\n",
    "COUNT(*), ROUND(COUNT(*) * 100.0 / SUM(COUNT(*)) OVER(), 1) AS \"Percent Of Total\"\n",
    "FROM student \n",
    "WHERE workday_alcohol IN (4,5)\n",
    "GROUP BY activities\n",
    "ORDER BY ROUND(COUNT(*) * 100.0 / SUM(COUNT(*)) OVER(), 1) DESC\n",
    "LIMIT 1;\n",
    "\"\"\"\n",
    "Q4_6 = sqlite_to_dataframe(Q4_6)\n",
    "print(Q4_6)"
   ]
  },
  {
   "cell_type": "code",
   "execution_count": 112,
   "metadata": {},
   "outputs": [
    {
     "name": "stdout",
     "output_type": "stream",
     "text": [
      "  Trait  COUNT(*)  Percent Of Total\n",
      "0   yes        43              82.7\n"
     ]
    }
   ],
   "source": [
    "Q4_7 = \"\"\"\n",
    "SELECT higher_edu AS \"Trait\",\n",
    "COUNT(*), ROUND(COUNT(*) * 100.0 / SUM(COUNT(*)) OVER(), 1) AS \"Percent Of Total\"\n",
    "FROM student \n",
    "WHERE workday_alcohol IN (4,5)\n",
    "GROUP BY higher_edu \n",
    "ORDER BY ROUND(COUNT(*) * 100.0 / SUM(COUNT(*)) OVER(), 1) DESC\n",
    "LIMIT 1;\n",
    "\"\"\"\n",
    "Q4_7 = sqlite_to_dataframe(Q4_7)\n",
    "print(Q4_7)"
   ]
  },
  {
   "cell_type": "code",
   "execution_count": 113,
   "metadata": {},
   "outputs": [
    {
     "name": "stdout",
     "output_type": "stream",
     "text": [
      "   Trait  COUNT(*)  Percent Of Total\n",
      "0      4        21              40.4\n"
     ]
    }
   ],
   "source": [
    "Q4_8 = \"\"\"\n",
    "SELECT family_relationship AS \"Trait\",\n",
    "COUNT(*), ROUND(COUNT(*) * 100.0 / SUM(COUNT(*)) OVER(), 1) AS \"Percent Of Total\"\n",
    "FROM student \n",
    "WHERE workday_alcohol IN (4,5)\n",
    "GROUP BY family_relationship \n",
    "ORDER BY ROUND(COUNT(*) * 100.0 / SUM(COUNT(*)) OVER(), 1) DESC\n",
    "LIMIT 1;\n",
    "\"\"\"\n",
    "Q4_8 = sqlite_to_dataframe(Q4_8)\n",
    "print(Q4_8)"
   ]
  },
  {
   "cell_type": "code",
   "execution_count": 114,
   "metadata": {},
   "outputs": [
    {
     "name": "stdout",
     "output_type": "stream",
     "text": [
      "   Trait  COUNT(*)  Percent Of Total\n",
      "0      4        16              30.8\n"
     ]
    }
   ],
   "source": [
    "Q4_9 = \"\"\"\n",
    "SELECT free_time AS \"Trait\",\n",
    "COUNT(*), ROUND(COUNT(*) * 100.0 / SUM(COUNT(*)) OVER(), 1) AS \"Percent Of Total\"\n",
    "FROM student \n",
    "WHERE workday_alcohol IN (4,5)\n",
    "GROUP BY free_time\n",
    "ORDER BY ROUND(COUNT(*) * 100.0 / SUM(COUNT(*)) OVER(), 1) DESC\n",
    "LIMIT 1;\n",
    "\"\"\"\n",
    "Q4_9 = sqlite_to_dataframe(Q4_9)\n",
    "print(Q4_9)"
   ]
  },
  {
   "cell_type": "code",
   "execution_count": 115,
   "metadata": {},
   "outputs": [
    {
     "name": "stdout",
     "output_type": "stream",
     "text": [
      "   Trait  COUNT(*)  Percent Of Total\n",
      "0      5        24              46.2\n"
     ]
    }
   ],
   "source": [
    "Q4_10 = \"\"\"\n",
    "SELECT go_out AS \"Trait\",\n",
    "COUNT(*), ROUND(COUNT(*) * 100.0 / SUM(COUNT(*)) OVER(), 1) AS \"Percent Of Total\"\n",
    "FROM student \n",
    "WHERE workday_alcohol IN (4,5)\n",
    "GROUP BY go_out\n",
    "ORDER BY ROUND(COUNT(*) * 100.0 / SUM(COUNT(*)) OVER(), 1) DESC\n",
    "LIMIT 1;\n",
    "\"\"\"\n",
    "Q4_10 = sqlite_to_dataframe(Q4_10)\n",
    "print(Q4_10)"
   ]
  },
  {
   "cell_type": "code",
   "execution_count": 116,
   "metadata": {},
   "outputs": [
    {
     "name": "stdout",
     "output_type": "stream",
     "text": [
      "   Trait  COUNT(*)  Percent Of Total\n",
      "0      5        34              65.4\n"
     ]
    }
   ],
   "source": [
    "Q4_11 = \"\"\"\n",
    "SELECT weekend_alcohol AS \"Trait\",\n",
    "COUNT(*), ROUND(COUNT(*) * 100.0 / SUM(COUNT(*)) OVER(), 1) AS \"Percent Of Total\"\n",
    "FROM student \n",
    "WHERE workday_alcohol IN (4,5)\n",
    "GROUP BY weekend_alcohol\n",
    "ORDER BY ROUND(COUNT(*) * 100.0 / SUM(COUNT(*)) OVER(), 1) DESC\n",
    "LIMIT 1;\n",
    "\"\"\"\n",
    "Q4_11 = sqlite_to_dataframe(Q4_11)\n",
    "print(Q4_11)"
   ]
  },
  {
   "cell_type": "code",
   "execution_count": 117,
   "metadata": {},
   "outputs": [
    {
     "name": "stdout",
     "output_type": "stream",
     "text": [
      "   Trait  COUNT(*)  Percent Of Total\n",
      "0      5        17              32.7\n"
     ]
    }
   ],
   "source": [
    "Q4_12 = \"\"\"\n",
    "SELECT health_status AS \"Trait\",\n",
    "COUNT(*), ROUND(COUNT(*) * 100.0 / SUM(COUNT(*)) OVER(), 1) AS \"Percent Of Total\"\n",
    "FROM student \n",
    "WHERE workday_alcohol IN (4,5)\n",
    "GROUP BY health_status\n",
    "ORDER BY ROUND(COUNT(*) * 100.0 / SUM(COUNT(*)) OVER(), 1) DESC\n",
    "LIMIT 1;\n",
    "\"\"\"\n",
    "Q4_12 = sqlite_to_dataframe(Q4_12)\n",
    "print(Q4_12)"
   ]
  },
  {
   "cell_type": "code",
   "execution_count": 118,
   "metadata": {},
   "outputs": [
    {
     "name": "stdout",
     "output_type": "stream",
     "text": [
      "   Trait  COUNT(*)  Percent Of Total\n",
      "0      0        12              23.1\n"
     ]
    }
   ],
   "source": [
    "Q4_13 = \"\"\"\n",
    "SELECT absences AS \"Trait\",\n",
    "COUNT(*), ROUND(COUNT(*) * 100.0 / SUM(COUNT(*)) OVER(), 1) AS \"Percent Of Total\"\n",
    "FROM student \n",
    "WHERE workday_alcohol IN (4,5)\n",
    "GROUP BY absences\n",
    "ORDER BY ROUND(COUNT(*) * 100.0 / SUM(COUNT(*)) OVER(), 1) DESC\n",
    "LIMIT 1;\n",
    "\"\"\"\n",
    "Q4_13 = sqlite_to_dataframe(Q4_13)\n",
    "print(Q4_13)"
   ]
  },
  {
   "cell_type": "code",
   "execution_count": 119,
   "metadata": {},
   "outputs": [
    {
     "name": "stdout",
     "output_type": "stream",
     "text": [
      "  Trait  COUNT(*)  Percent Of Total\n",
      "0   yes        29              55.8\n"
     ]
    }
   ],
   "source": [
    "Q4_14 = \"\"\"\n",
    "SELECT currently_dating AS \"Trait\",\n",
    "COUNT(*), ROUND(COUNT(*) * 100.0 / SUM(COUNT(*)) OVER(), 1) AS \"Percent Of Total\"\n",
    "FROM student \n",
    "WHERE workday_alcohol IN (4,5)\n",
    "GROUP BY currently_dating \n",
    "ORDER BY ROUND(COUNT(*) * 100.0 / SUM(COUNT(*)) OVER(), 1) DESC\n",
    "LIMIT 1;\n",
    "\"\"\"\n",
    "Q4_14 = sqlite_to_dataframe(Q4_14)\n",
    "print(Q4_14)"
   ]
  },
  {
   "cell_type": "code",
   "execution_count": 120,
   "metadata": {},
   "outputs": [
    {
     "name": "stdout",
     "output_type": "stream",
     "text": [
      "  Trait  COUNT(*)  Percent Of Total\n",
      "0    no        36              69.2\n"
     ]
    }
   ],
   "source": [
    "Q4_15 = \"\"\"\n",
    "SELECT tutored AS \"Trait\",\n",
    "COUNT(*), ROUND(COUNT(*) * 100.0 / SUM(COUNT(*)) OVER(), 1) AS \"Percent Of Total\"\n",
    "FROM student \n",
    "WHERE workday_alcohol IN (4,5)\n",
    "GROUP BY tutored \n",
    "ORDER BY ROUND(COUNT(*) * 100.0 / SUM(COUNT(*)) OVER(), 1) DESC\n",
    "LIMIT 1;\n",
    "\"\"\"\n",
    "Q4_15 = sqlite_to_dataframe(Q4_15)\n",
    "print(Q4_15)"
   ]
  },
  {
   "cell_type": "code",
   "execution_count": 121,
   "metadata": {},
   "outputs": [
    {
     "name": "stdout",
     "output_type": "stream",
     "text": [
      "   Trait  Percent Of Total             Category\n",
      "0      M              76.9                  Sex\n",
      "1     18              30.8                  Age\n",
      "2      T              88.5        Parent Status\n",
      "3      2              46.2           Study Time\n",
      "4      0              71.2             Failures\n",
      "5    yes              53.8           Activities\n",
      "6    yes              82.7     Higher Education\n",
      "7      4              40.4  Family Relationship\n",
      "8      4              30.8            Free Time\n",
      "9      5              46.2               Go Out\n",
      "10     5              65.4      Weekend Alcohol\n",
      "11     5              32.7        Health Status\n",
      "12     0              23.1             Absenses\n",
      "13   yes              55.8     Currently Dating\n",
      "14    no              69.2              Tutored\n"
     ]
    }
   ],
   "source": [
    "stacked_df = pd.concat([Q4_1, Q4_2, Q4_3, Q4_4, Q4_5, Q4_6, Q4_7, Q4_8, Q4_9, Q4_10, Q4_11, Q4_12, Q4_13, Q4_14, Q4_15], axis=0, ignore_index=True)\n",
    "stacked_df1 = stacked_df.drop(columns='COUNT(*)', inplace=False)\n",
    "stacked_df1[\"Category\"] = [\"Sex\", \"Age\", \"Parent Status\", \"Study Time\", \"Failures\", \"Activities\", \"Higher Education\", \"Family Relationship\", \"Free Time\", \"Go Out\", \"Weekend Alcohol\", \"Health Status\", \"Absenses\", \"Currently Dating\", \"Tutored\"]\n",
    "print(stacked_df1)\n"
   ]
  }
 ],
 "metadata": {
  "kernelspec": {
   "display_name": "base",
   "language": "python",
   "name": "python3"
  },
  "language_info": {
   "codemirror_mode": {
    "name": "ipython",
    "version": 3
   },
   "file_extension": ".py",
   "mimetype": "text/x-python",
   "name": "python",
   "nbconvert_exporter": "python",
   "pygments_lexer": "ipython3",
   "version": "3.12.4"
  }
 },
 "nbformat": 4,
 "nbformat_minor": 2
}
