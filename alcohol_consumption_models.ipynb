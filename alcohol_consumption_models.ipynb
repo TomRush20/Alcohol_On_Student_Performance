{
 "cells": [
  {
   "cell_type": "code",
   "execution_count": 116,
   "metadata": {},
   "outputs": [],
   "source": [
    "import pandas as pd\n",
    "import seaborn as sns\n",
    "import matplotlib.pyplot as plt\n",
    "import statsmodels.api as sm\n",
    "from statsmodels.stats.outliers_influence import variance_inflation_factor\n",
    "import seaborn as sns"
   ]
  },
  {
   "cell_type": "code",
   "execution_count": 117,
   "metadata": {},
   "outputs": [
    {
     "name": "stdout",
     "output_type": "stream",
     "text": [
      "Index(['age', 'Medu', 'Fedu', 'Mjob', 'Fjob', 'traveltime', 'studytime',\n",
      "       'failures', 'schoolsup', 'famsup', 'paid', 'activities', 'nursery',\n",
      "       'higher', 'internet', 'romantic', 'famrel', 'freetime', 'goout', 'Dalc',\n",
      "       'Walc', 'health', 'absences', 'G3'],\n",
      "      dtype='object')\n"
     ]
    }
   ],
   "source": [
    "\"\"\"\n",
    "df_mat = pd.read_csv(\"student-mat.csv\")\n",
    "df_por = pd.read_csv(\"student-por.csv\")\n",
    "\n",
    "df_mat.reset_index(inplace=True)\n",
    "df_por.reset_index(inplace=True)\n",
    "\n",
    "#df = pd.merge(df_por, df_mat, on=\"index\", how=\"left\")\n",
    "df = pd.concat([df_mat, df_por], axis=1)\n",
    "df.drop(columns=[\"index\"], inplace=True)\n",
    "print(df.columns)\n",
    "\"\"\"\n",
    "\n",
    "df = pd.read_csv(\"student-por.csv\")\n",
    "df.drop(columns=[\"reason\", \"guardian\", \"famsize\", \"address\", \"sex\", \"school\", \"Pstatus\", \"G1\", \"G2\"], inplace=True)\n",
    "df.replace({\"yes\":1, \"no\":0}, inplace=True)\n",
    "print(df.columns)"
   ]
  },
  {
   "cell_type": "code",
   "execution_count": 118,
   "metadata": {},
   "outputs": [
    {
     "name": "stdout",
     "output_type": "stream",
     "text": [
      "                            OLS Regression Results                            \n",
      "==============================================================================\n",
      "Dep. Variable:                     G3   R-squared:                       0.318\n",
      "Model:                            OLS   Adj. R-squared:                  0.286\n",
      "Method:                 Least Squares   F-statistic:                     9.955\n",
      "Date:                Tue, 03 Dec 2024   Prob (F-statistic):           1.85e-35\n",
      "Time:                        15:44:56   Log-Likelihood:                -1557.2\n",
      "No. Observations:                 649   AIC:                             3174.\n",
      "Df Residuals:                     619   BIC:                             3309.\n",
      "Df Model:                          29                                         \n",
      "Covariance Type:            nonrobust                                         \n",
      "=================================================================================\n",
      "                    coef    std err          t      P>|t|      [0.025      0.975]\n",
      "---------------------------------------------------------------------------------\n",
      "const             5.6527      1.364      4.144      0.000       2.974       8.331\n",
      "age               0.1808      0.100      1.799      0.073      -0.017       0.378\n",
      "Medu              0.0230      0.153      0.150      0.881      -0.278       0.324\n",
      "Fedu              0.2169      0.139      1.557      0.120      -0.057       0.491\n",
      "traveltime       -0.1400      0.153     -0.913      0.362      -0.441       0.161\n",
      "studytime         0.5687      0.140      4.071      0.000       0.294       0.843\n",
      "failures         -1.4940      0.205     -7.275      0.000      -1.897      -1.091\n",
      "schoolsup        -1.0222      0.367     -2.789      0.005      -1.742      -0.302\n",
      "famsup            0.0841      0.230      0.366      0.715      -0.367       0.536\n",
      "paid             -0.6295      0.466     -1.351      0.177      -1.544       0.285\n",
      "activities        0.2801      0.223      1.259      0.209      -0.157       0.717\n",
      "nursery          -0.2202      0.275     -0.800      0.424      -0.761       0.320\n",
      "higher            1.8252      0.389      4.689      0.000       1.061       2.590\n",
      "internet          0.5106      0.278      1.839      0.066      -0.035       1.056\n",
      "romantic         -0.4853      0.231     -2.102      0.036      -0.939      -0.032\n",
      "famrel            0.1433      0.118      1.218      0.224      -0.088       0.374\n",
      "freetime         -0.1836      0.114     -1.611      0.108      -0.407       0.040\n",
      "goout            -0.0753      0.109     -0.694      0.488      -0.288       0.138\n",
      "Dalc             -0.2831      0.153     -1.856      0.064      -0.583       0.016\n",
      "Walc             -0.1023      0.118     -0.865      0.387      -0.334       0.130\n",
      "health           -0.1958      0.078     -2.519      0.012      -0.349      -0.043\n",
      "absences         -0.0085      0.025     -0.346      0.729      -0.057       0.040\n",
      "Mjob_at_home      0.6697      0.374      1.789      0.074      -0.066       1.405\n",
      "Mjob_health       1.7737      0.449      3.952      0.000       0.892       2.655\n",
      "Mjob_other        0.7823      0.330      2.372      0.018       0.135       1.430\n",
      "Mjob_services     1.2121      0.360      3.370      0.001       0.506       1.919\n",
      "Mjob_teacher      1.2149      0.448      2.714      0.007       0.336       2.094\n",
      "Fjob_at_home      1.1818      0.481      2.459      0.014       0.238       2.126\n",
      "Fjob_health       0.7016      0.578      1.215      0.225      -0.433       1.836\n",
      "Fjob_other        1.2406      0.352      3.523      0.000       0.549       1.932\n",
      "Fjob_services     0.6279      0.358      1.754      0.080      -0.075       1.331\n",
      "Fjob_teacher      1.9009      0.515      3.688      0.000       0.889       2.913\n",
      "==============================================================================\n",
      "Omnibus:                      159.885   Durbin-Watson:                   1.897\n",
      "Prob(Omnibus):                  0.000   Jarque-Bera (JB):              599.205\n",
      "Skew:                          -1.105   Prob(JB):                    7.66e-131\n",
      "Kurtosis:                       7.157   Cond. No.                     5.38e+16\n",
      "==============================================================================\n",
      "\n",
      "Notes:\n",
      "[1] Standard Errors assume that the covariance matrix of the errors is correctly specified.\n",
      "[2] The smallest eigenvalue is 8.41e-29. This might indicate that there are\n",
      "strong multicollinearity problems or that the design matrix is singular.\n"
     ]
    }
   ],
   "source": [
    "#Final Grade\n",
    "X = df.drop(columns=[\"G3\"])\n",
    "X = pd.get_dummies(X, columns=[\"Mjob\", \"Fjob\"])\n",
    "Y = df[\"G3\"]\n",
    "X = sm.add_constant(X)\n",
    "reg = sm.OLS(Y, X).fit()\n",
    "\n",
    "print(reg.summary())"
   ]
  },
  {
   "cell_type": "code",
   "execution_count": null,
   "metadata": {},
   "outputs": [],
   "source": []
  }
 ],
 "metadata": {
  "kernelspec": {
   "display_name": "base",
   "language": "python",
   "name": "python3"
  },
  "language_info": {
   "codemirror_mode": {
    "name": "ipython",
    "version": 3
   },
   "file_extension": ".py",
   "mimetype": "text/x-python",
   "name": "python",
   "nbconvert_exporter": "python",
   "pygments_lexer": "ipython3",
   "version": "3.10.9"
  }
 },
 "nbformat": 4,
 "nbformat_minor": 2
}
